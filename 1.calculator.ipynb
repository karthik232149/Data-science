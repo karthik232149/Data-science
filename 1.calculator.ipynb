{
 "cells": [
  {
   "cell_type": "code",
   "execution_count": 1,
   "id": "35fce0fc",
   "metadata": {},
   "outputs": [
    {
     "name": "stdout",
     "output_type": "stream",
     "text": [
      "Select the Operations\n",
      "1.Add\n",
      "2.substract\n",
      "3.Multiply\n",
      "4.Division\n",
      "5.modulus\n",
      "Enter the 1st number:5\n",
      "Enter the 2nd number:0\n",
      "Enter the choice:3\n",
      "Multiply:0.00\n"
     ]
    }
   ],
   "source": []
  },
  {
   "cell_type": "code",
   "execution_count": 1,
   "id": "8f264654",
   "metadata": {},
   "outputs": [
    {
     "ename": "IndentationError",
     "evalue": "expected an indented block after 'while' statement on line 3 (3710137163.py, line 5)",
     "output_type": "error",
     "traceback": [
      "\u001b[0;36m  Cell \u001b[0;32mIn[1], line 5\u001b[0;36m\u001b[0m\n\u001b[0;31m    print ('Python Calculator!\\n')\u001b[0m\n\u001b[0m    ^\u001b[0m\n\u001b[0;31mIndentationError\u001b[0m\u001b[0;31m:\u001b[0m expected an indented block after 'while' statement on line 3\n"
     ]
    }
   ],
   "source": [
    "\n",
    "\n"
   ]
  },
  {
   "cell_type": "code",
   "execution_count": 3,
   "id": "3434b379",
   "metadata": {},
   "outputs": [
    {
     "name": "stdout",
     "output_type": "stream",
     "text": [
      "Enter the First number : 2\n",
      "Enter the Second number : 0\n",
      "\n",
      "Select Operator\n",
      "--------------------\n",
      "\n",
      "1.Addition\n",
      "2.Substract\n",
      "3.multiplication\n",
      "4.Division\n",
      "5.Modulus\n",
      "\n",
      " Enter the choice : 4\n",
      "invalid Operation\n"
     ]
    }
   ],
   "source": [
    "num1=float(input(\"Enter the First number : \"))\n",
    "num2=float(input(\"Enter the Second number : \"))\n",
    " \n",
    " \n",
    "print(\"\\nSelect Operator\")\n",
    "print(\"--------------------\")\n",
    " \n",
    "print(\"\\n1.Addition\")\n",
    "print(\"2.Substract\")\n",
    "print(\"3.multiplication\")\n",
    "print(\"4.Division\")\n",
    "print(\"5.Modulus\")\n",
    " \n",
    "choice=int(input(\"\\n Enter the choice : \"))\n",
    " \n",
    "if(choice==1):\n",
    "    print(\"Addition:%.2f\" %(num1+num2))\n",
    "   \n",
    "elif(choice==2):\n",
    "    print(\"Substract:%.2f\" %(num1-num2))\n",
    "   \n",
    "elif(choice==3):\n",
    "    print(\"Multiplication:%.2f\" %(num1*num2))\n",
    "   \n",
    "elif(choice==4):\n",
    "    if num2==0:\n",
    "        print(\"invalid Operation\")\n",
    "    else:\n",
    "        print(\"Division:%.2f\" %(num1/num2))\n",
    "   \n",
    "elif(choice==5):\n",
    "    print(\"Modulus:%.2f\" %(num1//num2))\n",
    "   \n",
    "else:\n",
    "    print(\"not possible\")"
   ]
  },
  {
   "cell_type": "code",
   "execution_count": null,
   "id": "9f309e9f",
   "metadata": {},
   "outputs": [],
   "source": []
  }
 ],
 "metadata": {
  "kernelspec": {
   "display_name": "Python 3 (ipykernel)",
   "language": "python",
   "name": "python3"
  },
  "language_info": {
   "codemirror_mode": {
    "name": "ipython",
    "version": 3
   },
   "file_extension": ".py",
   "mimetype": "text/x-python",
   "name": "python",
   "nbconvert_exporter": "python",
   "pygments_lexer": "ipython3",
   "version": "3.11.4"
  }
 },
 "nbformat": 4,
 "nbformat_minor": 5
}
