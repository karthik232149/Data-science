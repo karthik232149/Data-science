{
 "cells": [
  {
   "cell_type": "code",
   "execution_count": 4,
   "id": "5ed11038",
   "metadata": {},
   "outputs": [
    {
     "ename": "ValueError",
     "evalue": "Invalid format specifier '.2f%' for object of type 'float'",
     "output_type": "error",
     "traceback": [
      "\u001b[0;31m---------------------------------------------------------------------------\u001b[0m",
      "\u001b[0;31mValueError\u001b[0m                                Traceback (most recent call last)",
      "Cell \u001b[0;32mIn[4], line 23\u001b[0m\n\u001b[1;32m     21\u001b[0m accuracy \u001b[38;5;241m=\u001b[39m accuracy_score(y_test, y_pred)\n\u001b[1;32m     22\u001b[0m \u001b[38;5;66;03m# Print the accuracy\u001b[39;00m\n\u001b[0;32m---> 23\u001b[0m \u001b[38;5;28mprint\u001b[39m(\u001b[38;5;124mf\u001b[39m\u001b[38;5;124m'\u001b[39m\u001b[38;5;124mAccuracy of Decision Tree Classifier: \u001b[39m\u001b[38;5;132;01m{\u001b[39;00maccuracy\u001b[38;5;241m*\u001b[39m\u001b[38;5;241m100\u001b[39m\u001b[38;5;132;01m:\u001b[39;00m\u001b[38;5;124m.2f%\u001b[39m\u001b[38;5;132;01m}\u001b[39;00m\u001b[38;5;124m'\u001b[39m)\n",
      "\u001b[0;31mValueError\u001b[0m: Invalid format specifier '.2f%' for object of type 'float'"
     ]
    }
   ],
   "source": [
    "    #Import necessary libraries\n",
    "    import numpy as np\n",
    "    from sklearn.datasets import load_iris\n",
    "    from sklearn.model_selection import train_test_split\n",
    "    from sklearn.tree import DecisionTreeClassifier\n",
    "    from sklearn.metrics import accuracy_score\n",
    "    # Load the Iris dataset\n",
    "    data = load_iris()\n",
    "    X = data.data\n",
    "    y = data.target\n",
    "    # Split the dataset into training and testing sets\n",
    "    X_train, X_test, y_train, y_test = train_test_split(X, y, test_size=0.2,\n",
    "    random_state=42)\n",
    "    # Create a Decision Tree Classifier\n",
    "    dt_model = DecisionTreeClassifier()\n",
    "    # Train the Decision Tree model\n",
    "    dt_model.fit(X_train, y_train)\n",
    "    # Make predictions on the test\n",
    "    y_pred = dt_model.predict(X_test)\n",
    "    # Calculate the accuracy of the Decision Tree\n",
    "    accuracy = accuracy_score(y_test, y_pred)\n",
    "    # Print the accuracy\n",
    "    print(f'Accuracy of Decision Tree Classifier: {accuracy*100:.2f%}')\n"
   ]
  },
  {
   "cell_type": "code",
   "execution_count": null,
   "id": "9485df73",
   "metadata": {},
   "outputs": [],
   "source": []
  },
  {
   "cell_type": "code",
   "execution_count": null,
   "id": "d77c4fd9",
   "metadata": {},
   "outputs": [],
   "source": []
  }
 ],
 "metadata": {
  "kernelspec": {
   "display_name": "Python 3 (ipykernel)",
   "language": "python",
   "name": "python3"
  },
  "language_info": {
   "codemirror_mode": {
    "name": "ipython",
    "version": 3
   },
   "file_extension": ".py",
   "mimetype": "text/x-python",
   "name": "python",
   "nbconvert_exporter": "python",
   "pygments_lexer": "ipython3",
   "version": "3.11.4"
  }
 },
 "nbformat": 4,
 "nbformat_minor": 5
}
