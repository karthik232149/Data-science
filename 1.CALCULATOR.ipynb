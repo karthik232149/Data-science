{
 "cells": [
  {
   "cell_type": "code",
   "execution_count": 1,
   "id": "acf7c112",
   "metadata": {},
   "outputs": [
    {
     "name": "stdout",
     "output_type": "stream",
     "text": [
      "Enter the First number : 5\n",
      "Enter the Second number : 3\n",
      "\n",
      "Select Operator\n",
      "--------------------\n",
      "\n",
      "1.Addition\n",
      "2.Substract\n",
      "3.multiplication\n",
      "4.Division\n",
      "5.Modulus\n",
      "\n",
      " Enter the choice : 1\n",
      "Addition:8.00\n"
     ]
    }
   ],
   "source": [
    "num1=float(input(\"Enter the First number : \"))\n",
    "num2=float(input(\"Enter the Second number : \"))\n",
    " \n",
    " \n",
    "print(\"\\nSelect Operator\")\n",
    "print(\"--------------------\")\n",
    " \n",
    "print(\"\\n1.Addition\")\n",
    "print(\"2.Substract\")\n",
    "print(\"3.multiplication\")\n",
    "print(\"4.Division\")\n",
    "print(\"5.Modulus\")\n",
    " \n",
    "choice=int(input(\"\\n Enter the choice : \"))\n",
    " \n",
    "if(choice==1):\n",
    "    print(\"Addition:%.2f\" %(num1+num2))\n",
    "   \n",
    "elif(choice==2):\n",
    "    print(\"Substract:%.2f\" %(num1-num2))\n",
    "   \n",
    "elif(choice==3):\n",
    "    print(\"Multiplication:%.2f\" %(num1*num2))\n",
    "   \n",
    "elif(choice==4):\n",
    "    if num2==0:\n",
    "        print(\"invalid Operation\")\n",
    "    else:\n",
    "        print(\"Division:%.2f\" %(num1/num2))\n",
    "   \n",
    "elif(choice==5):\n",
    "    print(\"Modulus:%.2f\" %(num1//num2))\n",
    "   \n",
    "else:\n",
    "    print(\"not possible\")"
   ]
  },
  {
   "cell_type": "code",
   "execution_count": 2,
   "id": "9f7b744b",
   "metadata": {},
   "outputs": [
    {
     "name": "stdout",
     "output_type": "stream",
     "text": [
      "Enter the First number : 5\n",
      "Enter the Second number : 4\n",
      "\n",
      "Select Operator\n",
      "--------------------\n",
      "\n",
      "1.Addition\n",
      "2.Substract\n",
      "3.multiplication\n",
      "4.Division\n",
      "5.Modulus\n",
      "\n",
      " Enter the choice : 5\n",
      "Modulus:1.00\n"
     ]
    }
   ],
   "source": [
    "num1=float(input(\"Enter the First number : \"))\n",
    "num2=float(input(\"Enter the Second number : \"))\n",
    " \n",
    " \n",
    "print(\"\\nSelect Operator\")\n",
    "print(\"--------------------\")\n",
    " \n",
    "print(\"\\n1.Addition\")\n",
    "print(\"2.Substract\")\n",
    "print(\"3.multiplication\")\n",
    "print(\"4.Division\")\n",
    "print(\"5.Modulus\")\n",
    " \n",
    "choice=int(input(\"\\n Enter the choice : \"))\n",
    " \n",
    "if(choice==1):\n",
    "    print(\"Addition:%.2f\" %(num1+num2))\n",
    "   \n",
    "elif(choice==2):\n",
    "    print(\"Substract:%.2f\" %(num1-num2))\n",
    "   \n",
    "elif(choice==3):\n",
    "    print(\"Multiplication:%.2f\" %(num1*num2))\n",
    "   \n",
    "elif(choice==4):\n",
    "    if num2==0:\n",
    "        print(\"invalid Operation\")\n",
    "    else:\n",
    "        print(\"Division:%.2f\" %(num1/num2))\n",
    "   \n",
    "elif(choice==5):\n",
    "    print(\"Modulus:%.2f\" %(num1//num2))\n",
    "   \n",
    "else:\n",
    "    print(\"not possible\")"
   ]
  },
  {
   "cell_type": "code",
   "execution_count": null,
   "id": "527725c5",
   "metadata": {},
   "outputs": [],
   "source": []
  }
 ],
 "metadata": {
  "kernelspec": {
   "display_name": "Python 3 (ipykernel)",
   "language": "python",
   "name": "python3"
  },
  "language_info": {
   "codemirror_mode": {
    "name": "ipython",
    "version": 3
   },
   "file_extension": ".py",
   "mimetype": "text/x-python",
   "name": "python",
   "nbconvert_exporter": "python",
   "pygments_lexer": "ipython3",
   "version": "3.11.4"
  }
 },
 "nbformat": 4,
 "nbformat_minor": 5
}
